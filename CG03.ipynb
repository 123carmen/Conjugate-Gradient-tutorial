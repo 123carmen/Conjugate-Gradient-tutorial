{
 "cells": [
  {
   "cell_type": "code",
   "execution_count": 1,
   "metadata": {},
   "outputs": [],
   "source": [
    "%matplotlib widget\n",
    "from CG import *"
   ]
  },
  {
   "cell_type": "code",
   "execution_count": 2,
   "metadata": {},
   "outputs": [],
   "source": [
    "A = np.matrix([[3.0, 2.0], [2.0, 6.0]])\n",
    "b = np.matrix([[2.0], [-8.0]])\n",
    "c = 0.0"
   ]
  },
  {
   "cell_type": "markdown",
   "metadata": {},
   "source": [
    "## 3. The Quadratic Form <a id=\"3\"></a>"
   ]
  },
  {
   "cell_type": "markdown",
   "metadata": {},
   "source": [
    "A quadratic form is simply a scalar, quadratic function of a vector with the form\n",
    "\n",
    "\\begin{equation}\n",
    "f(x) = \\frac{1}{2} x^T A x - b^T x + c \\tag{3}\n",
    "\\end{equation}\n",
    "\n",
    "where $A$ is a matrix, $x$ and $b$ are vectors, and $c$ is a scalar constant. I shall show shortly that if $A$ is symmetric\n",
    "and positive-definite, $f(x)$ is minimized by the solution to $Ax = b$.\n",
    "\n",
    "Throughout this paper, I will demonstrate ideas with the simple sample problem\n",
    "\n",
    "\\begin{equation}\n",
    "A = \\begin{bmatrix} 3 & 2 \\\\ 2 & 6 \\end{bmatrix},\\quad b = \\begin{bmatrix} 2 \\\\ -8 \\end{bmatrix},\\quad c=0 \\tag{4}\n",
    "\\end{equation}"
   ]
  },
  {
   "cell_type": "markdown",
   "metadata": {},
   "source": [
    "The system $Ax = b$ is illustrated in Figure 1. In general, the solution $x$ lies at the intersection point\n",
    "of $n$ hyperplanes, each having dimension $n-1$. For this problem, the solution is $x = [2, -2]^T$. The\n",
    "corresponding quadratic form $f(x)$ appears in Figure 2. A contour plot of $f(x)$ is illustrated in Figure 3."
   ]
  },
  {
   "cell_type": "code",
   "execution_count": 3,
   "metadata": {
    "hide_input": false
   },
   "outputs": [
    {
     "data": {
      "application/vnd.jupyter.widget-view+json": {
       "model_id": "7b28d66f4b0949e3804a6eddabde8d62",
       "version_major": 2,
       "version_minor": 0
      },
      "text/plain": [
       "Canvas(toolbar=Toolbar(toolitems=[('Home', 'Reset original view', 'home', 'home'), ('Back', 'Back to previous …"
      ]
     },
     "metadata": {},
     "output_type": "display_data"
    }
   ],
   "source": [
    "plotAb2D(A, b)"
   ]
  },
  {
   "cell_type": "markdown",
   "metadata": {},
   "source": [
    "<center>Figure 1: Sample two-dimensional linear system. The solution lies at the intersection of the lines.</center>"
   ]
  },
  {
   "cell_type": "code",
   "execution_count": 4,
   "metadata": {},
   "outputs": [
    {
     "data": {
      "application/vnd.jupyter.widget-view+json": {
       "model_id": "55d55056a1694990ac21b324a867107d",
       "version_major": 2,
       "version_minor": 0
      },
      "text/plain": [
       "Canvas(toolbar=Toolbar(toolitems=[('Home', 'Reset original view', 'home', 'home'), ('Back', 'Back to previous …"
      ]
     },
     "metadata": {},
     "output_type": "display_data"
    }
   ],
   "source": [
    "plotAbc3D(A, b, c)"
   ]
  },
  {
   "cell_type": "markdown",
   "metadata": {},
   "source": [
    "<center>Figure 2: Graph of a quadratic form $f(x)$. The minimum point of this surface is the solution to $Ax=b$.</center>"
   ]
  },
  {
   "cell_type": "code",
   "execution_count": 5,
   "metadata": {},
   "outputs": [
    {
     "data": {
      "application/vnd.jupyter.widget-view+json": {
       "model_id": "e79485b4defe4947aa68d2bb774a1e58",
       "version_major": 2,
       "version_minor": 0
      },
      "text/plain": [
       "Canvas(toolbar=Toolbar(toolitems=[('Home', 'Reset original view', 'home', 'home'), ('Back', 'Back to previous …"
      ]
     },
     "metadata": {},
     "output_type": "display_data"
    }
   ],
   "source": [
    "plotcontours(A, b, c)"
   ]
  },
  {
   "cell_type": "markdown",
   "metadata": {},
   "source": [
    "<center>Figure 3: Contours of the quadratic form. Each ellipsoidal curve has constant $f(x)$</center>"
   ]
  },
  {
   "cell_type": "markdown",
   "metadata": {},
   "source": [
    "Because $A$ is positive-definite, the surface defined by $f(x)$ is shaped like a paraboloid bowl. (I’ll have more\n",
    "to say about this in a moment.)\n",
    "\n",
    "The gradient of a quadratic form is defined to be\n",
    "\n",
    "\\begin{equation}\n",
    "f'(x) = \n",
    "\\begin{bmatrix}\n",
    "\\frac{\\partial}{\\partial x_1}f(x)\\\\\n",
    "\\frac{\\partial}{\\partial x_2}f(x)\\\\\n",
    "\\vdots\\\\\n",
    "\\frac{\\partial}{\\partial x_n}f(x)\n",
    "\\end{bmatrix}. \\tag{5}\n",
    "\\end{equation}\n",
    "\n",
    "The gradient is a vector field that, for a given point $x$, points in the direction of greatest increase of $f(x)$.\n",
    "Figure 4 illustrates the gradient vectors for Equation 3 with the constants given in Equation 4. At the bottom\n",
    "of the paraboloid bowl, the gradient is zero. One can minimize $f(x)$ by setting $f'(x)$ equal to zero."
   ]
  },
  {
   "cell_type": "code",
   "execution_count": 6,
   "metadata": {},
   "outputs": [
    {
     "data": {
      "application/vnd.jupyter.widget-view+json": {
       "model_id": "6a71f01d5717426a89854ee564b51b17",
       "version_major": 2,
       "version_minor": 0
      },
      "text/plain": [
       "Canvas(toolbar=Toolbar(toolitems=[('Home', 'Reset original view', 'home', 'home'), ('Back', 'Back to previous …"
      ]
     },
     "metadata": {},
     "output_type": "display_data"
    }
   ],
   "source": [
    "vectorfield(A, b, c)"
   ]
  },
  {
   "cell_type": "markdown",
   "metadata": {},
   "source": [
    "<center>Figure 4: Gradient $f'(x)$ of the quadratic form. For every $x$, the gradient points in the direction of steepest\n",
    "increase of $f(x)$, and is orthogonal to the contour lines.</center>"
   ]
  },
  {
   "cell_type": "markdown",
   "metadata": {},
   "source": [
    "With a little bit of tedious math, one can apply Equation 5 to Equation 3, and derive\n",
    "\n",
    "\\begin{equation}\n",
    "f'(x) = \\frac{1}{2}A^Tx + \\frac{1}{2}Ax - b. \\tag{6}\n",
    "\\end{equation}\n",
    "\n",
    "If $A$ is symmetric, this equation reduces to\n",
    "\n",
    "\\begin{equation}\n",
    "f'(x) = Ax - b. \\tag{7}\n",
    "\\end{equation}\n",
    "\n",
    "Setting the gradient to zero, we obtain Equation 1, the linear system we wish to solve. Therefore, the solution to $Ax = b$ is a critical point of $f(x)$. If $A$ is positive-definite as well as symmetric, then this solution is a minimum of $f(x)$, so $Ax = b$\tcan be solved by finding an $x$ that minimizes $f(x)$. (If $A$ is not symmetric, then Equation 6 hints that CG will find a solution to the system $\\frac{1}{2}(A^T + A)x = b$. Note that $\\frac{1}{2}(A^T + A)$ is symmetric.)\n",
    "\n",
    "Why do symmetric positive-definite matrices have this nice property? Consider the relationship between $f$ at some arbitrary point $p$ and at the solution point $x = A^{-1}b$. From Equation 3 one can show (Appendix C1) that if $A$ is symmetric (be it positive-definite or not),\n",
    "\n",
    "\\begin{equation}\n",
    "f(p) = f(x) + \\frac{1}{2}(p-x)^TA(p-x). \\tag{8}\n",
    "\\end{equation}\n",
    "\n",
    "If $A$ is positive-definite as well, then by Inequality 2, the latter term is positive for all $p \\neq x$. It follows that $x$ is a global minimum of $f$.\n",
    "\n",
    "The fact that $f(x)$ is a paraboloid is our best intuition of what it means for a matrix to be positive-definite. If $A$ is not positive-definite, there are several other possibilities. $A$ could be negative-definite — the result of negating a positive-definite matrix (see Figure 2, but hold it upside-down). $A$ might be singular, in which case no solution is unique; the set of solutions is a line or hyperplane having a uniform value for $f$. If $A$ is none of the above, then $x$ is a saddle point, and techniques like Steepest Descent and CG will likely fail. Figure 5 demonstrates the possibilities. The values of $b$ and $c$ determine where the minimum point of the paraboloid lies, but do not affect the paraboloid’s shape."
   ]
  },
  {
   "cell_type": "code",
   "execution_count": 7,
   "metadata": {},
   "outputs": [
    {
     "data": {
      "application/vnd.jupyter.widget-view+json": {
       "model_id": "2c23c7fc4b3b44faabb1ba875c2f55e9",
       "version_major": 2,
       "version_minor": 0
      },
      "text/plain": [
       "Canvas(toolbar=Toolbar(toolitems=[('Home', 'Reset original view', 'home', 'home'), ('Back', 'Back to previous …"
      ]
     },
     "metadata": {},
     "output_type": "display_data"
    }
   ],
   "source": [
    "fig5()"
   ]
  },
  {
   "cell_type": "markdown",
   "metadata": {},
   "source": [
    "<center>Figure 5: (a) Quadratic form for a positive-definite matrix. (b) For a negative-definite matrix. (c) For a singular (and positive-indefinite) matrix. A line that runs through the bottom of the valley is the set of solutions. (d) For an indefinite matrix. Because the solution is a saddle point, Steepest Descent and CG will not work. In three dimensions or higher, a singular matrix can also have a saddle.</center>"
   ]
  },
  {
   "cell_type": "markdown",
   "metadata": {},
   "source": [
    "Why go to the trouble of converting the linear system into a tougher-looking problem? The methods under study — Steepest Descent and CG — were developed and are intuitively understood in terms of minimization problems like Figure 2, not in terms of intersecting hyperplanes such as Figure 1."
   ]
  },
  {
   "cell_type": "markdown",
   "metadata": {},
   "source": [
    "<html>\n",
    "<hr style=\"height:2px;border:none;color:#228;background-color:#228;\" />\n",
    "<span style=\"color:#228\">\n",
    "<p><i>Additional Content - not in the original publication - added by AvS</i>\n",
    "\n",
    "<p>Below is an interactive figure to explore our system. You can move the sliders to change $A, b$ and $c$.\n",
    "\n",
    "<p>Note that changing $c$ just shifts the whole 3D surface vertically, and has no influence on the solution $x$, as shown by the intersecting lines.\n",
    "\n",
    "<p>Also note that if $A_{01} \\neq A_{10}$, i.e., $A$ is not symmetric, the solution $x$ to $Ax = b$ indicated by the intersection of the two lines is not at the minimum value of the 3D surface $f(x)$, shown by the contour lines.\n",
    "</span></html>"
   ]
  },
  {
   "cell_type": "code",
   "execution_count": 8,
   "metadata": {},
   "outputs": [
    {
     "data": {
      "application/vnd.jupyter.widget-view+json": {
       "model_id": "e41a7e7e4fd24d789fedae85c0985973",
       "version_major": 2,
       "version_minor": 0
      },
      "text/plain": [
       "Canvas(toolbar=Toolbar(toolitems=[('Home', 'Reset original view', 'home', 'home'), ('Back', 'Back to previous …"
      ]
     },
     "metadata": {},
     "output_type": "display_data"
    }
   ],
   "source": [
    "hdls = fig_A()"
   ]
  },
  {
   "cell_type": "code",
   "execution_count": 9,
   "metadata": {},
   "outputs": [
    {
     "data": {
      "application/vnd.jupyter.widget-view+json": {
       "model_id": "1011644db166467abd466209bb95a7da",
       "version_major": 2,
       "version_minor": 0
      },
      "text/plain": [
       "Box(children=(Box(children=(FloatSlider(value=3.0, max=10.0, min=-10.0), FloatSlider(value=2.0, max=10.0, min=…"
      ]
     },
     "metadata": {},
     "output_type": "display_data"
    }
   ],
   "source": [
    "sliders_figA(hdls);"
   ]
  },
  {
   "cell_type": "markdown",
   "metadata": {},
   "source": [
    "<html>\n",
    "<hr style=\"height:2px;border:none;color:#228;background-color:#228;\" />\n",
    "</html>"
   ]
  },
  {
   "cell_type": "markdown",
   "metadata": {},
   "source": [
    "Next: [4. The Method of Steepest Descent](CG04.ipynb)"
   ]
  }
 ],
 "metadata": {
  "anaconda-cloud": {},
  "hide_input": false,
  "kernelspec": {
   "display_name": "Python 3",
   "language": "python",
   "name": "python3"
  },
  "language_info": {
   "codemirror_mode": {
    "name": "ipython",
    "version": 3
   },
   "file_extension": ".py",
   "mimetype": "text/x-python",
   "name": "python",
   "nbconvert_exporter": "python",
   "pygments_lexer": "ipython3",
   "version": "3.7.9"
  },
  "latex_envs": {
   "bibliofile": "biblio.bib",
   "cite_by": "apalike",
   "current_citInitial": 1,
   "eqLabelWithNumbers": true,
   "eqNumInitial": 0
  },
  "widgets": {
   "state": {
    "038f4b96e7db4f718c4184df788dc1cb": {
     "views": []
    },
    "0f8ce3b190564f719a99b59fab2640e4": {
     "views": []
    },
    "1b3c8968c71f404fbd62f12695329041": {
     "views": []
    },
    "2cfc8af2a4ce48d588bc96aaf7e7bb8c": {
     "views": []
    },
    "3011881e9ca14aca822c85f567832669": {
     "views": []
    },
    "404e8a7b50624b24af183286b6639157": {
     "views": []
    },
    "4e7f7209bc1b4c55896fc7f725072a84": {
     "views": []
    },
    "516a77fb206c466ca92781a9a7424935": {
     "views": []
    },
    "62cca2ec1e0143a78490622152db06f4": {
     "views": []
    },
    "6de1843f0223403095eaf803a8a8a143": {
     "views": []
    },
    "83c9c0dcbd1b45e6b89e3a2b9f12c5cd": {
     "views": []
    },
    "8a86122ab27f4bd490b02b0e53efd651": {
     "views": []
    },
    "8fb16af94c3f430d8e27619c95e88b6f": {
     "views": []
    },
    "90cc182ea1294cd2bf8b2a57204a84d6": {
     "views": []
    },
    "9492448f3d724c348c07c883561461d0": {
     "views": []
    },
    "9691376509234df7b883bafd708abea5": {
     "views": []
    },
    "bf8fa218cd9c4f56b4d8ae4d554b69a1": {
     "views": [
      {
       "cell_index": 20
      }
     ]
    },
    "c0cccbbf77984f16a4ad78db0dae6b40": {
     "views": []
    },
    "c45231e772384c1780c2658fe438b1a7": {
     "views": []
    },
    "c60419af64bd4638b8b9163869db2c03": {
     "views": []
    },
    "e36d091113a44fbc8495c18c9e6cfac9": {
     "views": []
    },
    "e6a334e7295e4693b04a387724df70a3": {
     "views": []
    },
    "e87f0b7cef2d4138bbde9dec1cbc3369": {
     "views": []
    },
    "f9e90a8284a24a448a15f8dc7d946199": {
     "views": []
    }
   },
   "version": "1.1.2"
  }
 },
 "nbformat": 4,
 "nbformat_minor": 4
}
